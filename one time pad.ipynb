{
  "nbformat": 4,
  "nbformat_minor": 0,
  "metadata": {
    "colab": {
      "provenance": [],
      "authorship_tag": "ABX9TyN2fMq0Sp1dQ1C7JyiD1b2V",
      "include_colab_link": true
    },
    "kernelspec": {
      "name": "python3",
      "display_name": "Python 3"
    },
    "language_info": {
      "name": "python"
    }
  },
  "cells": [
    {
      "cell_type": "markdown",
      "metadata": {
        "id": "view-in-github",
        "colab_type": "text"
      },
      "source": [
        "<a href=\"https://colab.research.google.com/github/Mayeesh30/advanced-cryptography/blob/main/one%20time%20pad.ipynb\" target=\"_parent\"><img src=\"https://colab.research.google.com/assets/colab-badge.svg\" alt=\"Open In Colab\"/></a>"
      ]
    },
    {
      "cell_type": "code",
      "source": [],
      "metadata": {
        "id": "lX4NGvYr7pgZ"
      },
      "execution_count": null,
      "outputs": []
    },
    {
      "cell_type": "code",
      "source": [
        "def caesar_encrypt(plaintext: str, shift: int) -> str:\n",
        "    \"\"\"Encrypt the plaintext using Caesar Cipher with the given shift.\"\"\"\n",
        "    ciphertext = ''\n",
        "    for char in plaintext:\n",
        "        if char.isalpha():  # Check if the character is a letter\n",
        "            # Shift within the alphabet and maintain case\n",
        "            start = 65 if char.isupper() else 97  # ASCII value of 'A' or 'a'\n",
        "            encrypted_char = chr((ord(char) - start + shift) % 26 + start)\n",
        "            ciphertext += encrypted_char\n",
        "        else:\n",
        "            # If not a letter, just append the character as it is\n",
        "            ciphertext += char\n",
        "    return ciphertext\n",
        "\n",
        "def caesar_decrypt(ciphertext: str, shift: int) -> str:\n",
        "    \"\"\"Decrypt the ciphertext using Caesar Cipher with the given shift.\"\"\"\n",
        "    plaintext = ''\n",
        "    for char in ciphertext:\n",
        "        if char.isalpha():  # Check if the character is a letter\n",
        "            # Shift within the alphabet and maintain case\n",
        "            start = 65 if char.isupper() else 97  # ASCII value of 'A' or 'a'\n",
        "            decrypted_char = chr((ord(char) - start - shift) % 26 + start)\n",
        "            plaintext += decrypted_char\n",
        "        else:\n",
        "            # If not a letter, just append the character as it is\n",
        "            plaintext += char\n",
        "    return plaintext\n",
        "\n",
        "# Example usage\n",
        "message = \"Hello, World!\"\n",
        "shift = 3\n",
        "\n",
        "# Encrypt the message\n",
        "ciphertext = caesar_encrypt(message, shift)\n",
        "print(f\"Encrypted message: {ciphertext}\")\n",
        "\n",
        "# Decrypt the message\n",
        "decrypted_message = caesar_decrypt(ciphertext, shift)\n",
        "print(f\"Decrypted message: {decrypted_message}\")\n"
      ],
      "metadata": {
        "colab": {
          "base_uri": "https://localhost:8080/"
        },
        "id": "Y4doDYFn7qOd",
        "outputId": "11108c16-129e-49be-e074-8087012c2684"
      },
      "execution_count": 2,
      "outputs": [
        {
          "output_type": "stream",
          "name": "stdout",
          "text": [
            "Encrypted message: Khoor, Zruog!\n",
            "Decrypted message: Hello, World!\n"
          ]
        }
      ]
    },
    {
      "cell_type": "code",
      "source": [],
      "metadata": {
        "id": "SXnXIBjV7r1J"
      },
      "execution_count": null,
      "outputs": []
    }
  ]
}